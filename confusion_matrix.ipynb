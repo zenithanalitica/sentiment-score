{
 "cells": [
  {
   "cell_type": "code",
   "execution_count": 2,
   "id": "d8590ed4",
   "metadata": {},
   "outputs": [
    {
     "data": {
      "text/html": [
       "<div>\n",
       "<style scoped>\n",
       "    .dataframe tbody tr th:only-of-type {\n",
       "        vertical-align: middle;\n",
       "    }\n",
       "\n",
       "    .dataframe tbody tr th {\n",
       "        vertical-align: top;\n",
       "    }\n",
       "\n",
       "    .dataframe thead th {\n",
       "        text-align: right;\n",
       "    }\n",
       "</style>\n",
       "<table border=\"1\" class=\"dataframe\">\n",
       "  <thead>\n",
       "    <tr style=\"text-align: right;\">\n",
       "      <th></th>\n",
       "      <th>id</th>\n",
       "      <th>text</th>\n",
       "      <th>Evaluation</th>\n",
       "    </tr>\n",
       "  </thead>\n",
       "  <tbody>\n",
       "    <tr>\n",
       "      <th>0</th>\n",
       "      <td>1241411864422223877</td>\n",
       "      <td>\"Clearly this must mean easyJet has no need of...</td>\n",
       "      <td>Negative</td>\n",
       "    </tr>\n",
       "    <tr>\n",
       "      <th>1</th>\n",
       "      <td>1135187083172155392</td>\n",
       "      <td>\"@EtihadAirways booked business class, no cont...</td>\n",
       "      <td>Negative</td>\n",
       "    </tr>\n",
       "    <tr>\n",
       "      <th>2</th>\n",
       "      <td>1142061346210635777</td>\n",
       "      <td>\"@candktravel @AmericanAir @Delta @united @Jet...</td>\n",
       "      <td>Negative</td>\n",
       "    </tr>\n",
       "    <tr>\n",
       "      <th>3</th>\n",
       "      <td>1178399552975654912</td>\n",
       "      <td>\"And now a @KLM CSR has confirmed they actuall...</td>\n",
       "      <td>Negative</td>\n",
       "    </tr>\n",
       "    <tr>\n",
       "      <th>4</th>\n",
       "      <td>1172231533492625408</td>\n",
       "      <td>\"@British_Airways IÕm supposedly on BA0281, an...</td>\n",
       "      <td>Negative</td>\n",
       "    </tr>\n",
       "  </tbody>\n",
       "</table>\n",
       "</div>"
      ],
      "text/plain": [
       "                    id                                               text  \\\n",
       "0  1241411864422223877  \"Clearly this must mean easyJet has no need of...   \n",
       "1  1135187083172155392  \"@EtihadAirways booked business class, no cont...   \n",
       "2  1142061346210635777  \"@candktravel @AmericanAir @Delta @united @Jet...   \n",
       "3  1178399552975654912  \"And now a @KLM CSR has confirmed they actuall...   \n",
       "4  1172231533492625408  \"@British_Airways IÕm supposedly on BA0281, an...   \n",
       "\n",
       "  Evaluation  \n",
       "0   Negative  \n",
       "1   Negative  \n",
       "2   Negative  \n",
       "3   Negative  \n",
       "4   Negative  "
      ]
     },
     "execution_count": 2,
     "metadata": {},
     "output_type": "execute_result"
    }
   ],
   "source": [
    "import pandas as pd\n",
    "\n",
    "csv_file = \"Evaluated tweets - Copy.csv\"\n",
    "\n",
    "df = pd.read_csv(\n",
    "    csv_file,\n",
    "    sep=';',            \n",
    "    encoding='cp1252',   \n",
    "    engine='python'      \n",
    ")\n",
    "\n",
    "df.head()"
   ]
  },
  {
   "cell_type": "code",
   "execution_count": 3,
   "id": "daa4e626",
   "metadata": {},
   "outputs": [],
   "source": [
    "df['id'] = df['id'].astype(str)"
   ]
  },
  {
   "cell_type": "code",
   "execution_count": 5,
   "id": "a46c09ad",
   "metadata": {},
   "outputs": [],
   "source": [
    "import requests\n",
    "from secret import password, url\n",
    "\n",
    "ids = df['id'].tolist()\n",
    "\n",
    "payload = {\n",
    "    \"statements\": [\n",
    "        {\n",
    "            \"statement\": \"\"\"\n",
    "            UNWIND $ids AS id\n",
    "            MATCH (t:Tweet {id: id})\n",
    "            RETURN id AS tweet_id, t.sentiment_label AS sentiment_label\n",
    "            \"\"\",\n",
    "            \"parameters\": {\"ids\": ids}\n",
    "        }\n",
    "    ]\n",
    "}\n",
    "\n",
    "headers = {\"Content-Type\": \"application/json\"}\n",
    "resp = requests.post(\n",
    "    url,\n",
    "    auth=(\"neo4j\", password),\n",
    "    json=payload,\n",
    "    headers=headers\n",
    ")\n",
    "resp.raise_for_status()\n",
    "data = resp.json()\n",
    "\n",
    "rows = data['results'][0]['data']\n",
    "result = [(r['row'][0], r['row'][1]) for r in rows]\n",
    "sentiment_df = pd.DataFrame(result, columns=['tweet_id', 'sentiment_label'])"
   ]
  },
  {
   "cell_type": "code",
   "execution_count": 6,
   "id": "f5adcfca",
   "metadata": {},
   "outputs": [],
   "source": [
    "merged_df = df.set_index('id').join(sentiment_df.set_index('tweet_id'),how='left')\n",
    "merged_df.rename(columns={'Evaluation': 'human_labeled','sentiment_label':'model_labeled' }, inplace=True)\n",
    "merged_df['human_labeled']=merged_df['human_labeled'].str.lower()"
   ]
  },
  {
   "cell_type": "code",
   "execution_count": 7,
   "id": "fce2647b",
   "metadata": {},
   "outputs": [
    {
     "name": "stdout",
     "output_type": "stream",
     "text": [
      "Model labeled  positive  neutral  negative\n",
      "Human labeled                             \n",
      "positive             14        1         1\n",
      "neutral               3       27         5\n",
      "negative              4        9        36\n"
     ]
    }
   ],
   "source": [
    "df=merged_df\n",
    "from sklearn.metrics import confusion_matrix\n",
    "\n",
    "labels = ['positive', 'neutral', 'negative']  \n",
    "\n",
    "cm = confusion_matrix(\n",
    "    y_true=df['human_labeled'],\n",
    "    y_pred=df['model_labeled'],\n",
    "    labels=labels\n",
    ")\n",
    "\n",
    "cm_df = pd.DataFrame(\n",
    "    cm,\n",
    "    index=pd.Index(labels, name='Human labeled'),\n",
    "    columns=pd.Index(labels, name='Model labeled')\n",
    ")\n",
    "\n",
    "print(cm_df)"
   ]
  },
  {
   "cell_type": "code",
   "execution_count": null,
   "id": "6887e992",
   "metadata": {},
   "outputs": [
    {
     "data": {
      "image/png": "[encoded data removed]",
      "text/plain": [
       "<Figure size 600x500 with 2 Axes>"
      ]
     },
     "metadata": {},
     "output_type": "display_data"
    }
   ],
   "source": [
    "import matplotlib.pyplot as plt\n",
    "import seaborn as sns  \n",
    "\n",
    "plt.figure(figsize=(6,5))\n",
    "ax=sns.heatmap(cm_df, annot=True, fmt='d', cmap='Oranges')\n",
    "ax.set_ylabel('Human labeled', labelpad=10)\n",
    "ax.set_xlabel('Model labeled',  labelpad=10)\n",
    "plt.show() #check"
   ]
  }
 ],
 "metadata": {
  "kernelspec": {
   "display_name": "o2IAB1",
   "language": "python",
   "name": "python3"
  },
  "language_info": {
   "codemirror_mode": {
    "name": "ipython",
    "version": 3
   },
   "file_extension": ".py",
   "mimetype": "text/x-python",
   "name": "python",
   "nbconvert_exporter": "python",
   "pygments_lexer": "ipython3",
   "version": "3.11.10"
  }
 },
 "nbformat": 4,
 "nbformat_minor": 5
}
